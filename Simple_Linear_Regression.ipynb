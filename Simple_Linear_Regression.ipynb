{
 "cells": [
  {
   "cell_type": "code",
   "execution_count": 1,
   "id": "50e21f8c",
   "metadata": {},
   "outputs": [],
   "source": [
    "import sklearn\n",
    "import numpy as np\n",
    "import matplotlib.pyplot as plt\n",
    "from sklearn.linear_model import LinearRegression"
   ]
  },
  {
   "cell_type": "code",
   "execution_count": 2,
   "id": "20872c46",
   "metadata": {
    "scrolled": true
   },
   "outputs": [],
   "source": [
    "X=np.array([[6],[8],[10],[14],[18]]).reshape(-1,1)\n",
    "y=[7,9,13,17.5,8]"
   ]
  },
  {
   "cell_type": "code",
   "execution_count": 3,
   "id": "b2fd3e52",
   "metadata": {},
   "outputs": [
    {
     "data": {
      "text/plain": [
       "<Figure size 640x480 with 0 Axes>"
      ]
     },
     "execution_count": 3,
     "metadata": {},
     "output_type": "execute_result"
    },
    {
     "data": {
      "text/plain": [
       "<Figure size 640x480 with 0 Axes>"
      ]
     },
     "metadata": {},
     "output_type": "display_data"
    }
   ],
   "source": [
    "plt.figure()"
   ]
  },
  {
   "cell_type": "code",
   "execution_count": 14,
   "id": "2dfee1ba",
   "metadata": {},
   "outputs": [
    {
     "data": {
      "image/png": "[encoded data removed]",
      "text/plain": [
       "<Figure size 640x480 with 1 Axes>"
      ]
     },
     "metadata": {},
     "output_type": "display_data"
    }
   ],
   "source": [
    "plt.title('Pizza price plotted against diameter')\n",
    "plt.xlabel('Diameter in inches')\n",
    "plt.ylabel('Price in dollars')\n",
    "plt.plot(X,y,'k.')\n",
    "plt.axis([0,25,0,25])\n",
    "plt.grid(True)\n",
    "plt.show()"
   ]
  },
  {
   "cell_type": "code",
   "execution_count": 4,
   "id": "9fcbc1d2",
   "metadata": {},
   "outputs": [
    {
     "data": {
      "text/plain": [
       "LinearRegression()"
      ]
     },
     "execution_count": 4,
     "metadata": {},
     "output_type": "execute_result"
    }
   ],
   "source": [
    "model=LinearRegression() #LinearRegession() is a class not a function.\n",
    "model.fit(X,y) #learn the parameters of a model y= ax +b a and b are the parameters"
   ]
  },
  {
   "cell_type": "code",
   "execution_count": 5,
   "id": "a4949ac3",
   "metadata": {},
   "outputs": [
    {
     "name": "stdout",
     "output_type": "stream",
     "text": [
      "A 12\" pizza should cost: $11.09\n"
     ]
    }
   ],
   "source": [
    "test_pizza=np.array([[12]])\n",
    "predicted_price=model.predict(test_pizza)[0] # predict values usng the learned parameters \n",
    "print('A 12\" pizza should cost: $%.2f' % predicted_price)"
   ]
  },
  {
   "cell_type": "markdown",
   "id": "69a848b0",
   "metadata": {},
   "source": [
    "test_pizza=np.array([[12]])\n",
    "predicted_price=model.predict(test_pizza)[0] # predict values usng the learned parameters\n",
    "print('A 12\" pizza should cost: $%.2f' % predicted_price)"
   ]
  },
  {
   "cell_type": "code",
   "execution_count": 6,
   "id": "69f39bf1",
   "metadata": {},
   "outputs": [
    {
     "name": "stdout",
     "output_type": "stream",
     "text": [
      "Residual sum of squares:  0\n"
     ]
    }
   ],
   "source": [
    "print('Residual sum of squares: %2.f' %np.mean(model.predict(X)-y)**2)"
   ]
  },
  {
   "cell_type": "code",
   "execution_count": 7,
   "id": "dffa3509",
   "metadata": {},
   "outputs": [
    {
     "data": {
      "text/plain": [
       "11.2"
      ]
     },
     "execution_count": 7,
     "metadata": {},
     "output_type": "execute_result"
    }
   ],
   "source": [
    "#Calcul de la variance\n",
    "x_bar= X.mean()\n",
    "x_bar"
   ]
  },
  {
   "cell_type": "code",
   "execution_count": 8,
   "id": "cc310984",
   "metadata": {},
   "outputs": [
    {
     "data": {
      "text/plain": [
       "23.2"
      ]
     },
     "execution_count": 8,
     "metadata": {},
     "output_type": "execute_result"
    }
   ],
   "source": [
    "variance=((X-x_bar)**2).sum()/(X.shape[0]-1)\n",
    "variance"
   ]
  },
  {
   "cell_type": "code",
   "execution_count": 9,
   "id": "7e5f41e9",
   "metadata": {},
   "outputs": [
    {
     "data": {
      "text/plain": [
       "9.633620689655173"
      ]
     },
     "execution_count": 9,
     "metadata": {},
     "output_type": "execute_result"
    }
   ],
   "source": [
    "a=model.predict(np.array([[6]]))\n",
    "a[0]"
   ]
  },
  {
   "cell_type": "markdown",
   "id": "7ffebf0c",
   "metadata": {},
   "source": [
    "\n",
    "b= np.var(X,ddof=1)\n",
    "b"
   ]
  },
  {
   "cell_type": "code",
   "execution_count": 10,
   "id": "726b6188",
   "metadata": {},
   "outputs": [
    {
     "data": {
      "text/plain": [
       "5.65"
      ]
     },
     "execution_count": 10,
     "metadata": {},
     "output_type": "execute_result"
    }
   ],
   "source": [
    "#Calcul de la covarianace\n",
    "y_bar=np.mean(y)\n",
    "#On transpose X\n",
    "covariance=np.multiply((X-x_bar).transpose(),y-y_bar).sum()/(X.shape[0]-1)\n",
    "covariance"
   ]
  },
  {
   "cell_type": "code",
   "execution_count": 11,
   "id": "ca2c8d56",
   "metadata": {},
   "outputs": [
    {
     "name": "stdout",
     "output_type": "stream",
     "text": [
      "5.649999999999999\n"
     ]
    }
   ],
   "source": [
    "print(np.cov(X.transpose(),y)[0][1])"
   ]
  },
  {
   "cell_type": "code",
   "execution_count": 12,
   "id": "1c5b5e68",
   "metadata": {},
   "outputs": [
    {
     "data": {
      "text/plain": [
       "0.6620052929422553"
      ]
     },
     "execution_count": 12,
     "metadata": {},
     "output_type": "execute_result"
    }
   ],
   "source": [
    "#Evaluating the model\n",
    "X_train=np.array([6,8,10,14,18]).reshape(-1,1)\n",
    "y_train=[7,9,13,17.5,18]\n",
    "\n",
    "X_test=np.array([8,9,11,16,12]).reshape(-1,1)\n",
    "y_test=[11,8.5,15,18,11]\n",
    "\n",
    "model=LinearRegression()\n",
    "model.fit(X_train,y_train)\n",
    "r_squared=model.score(X_test,y_test)\n",
    "r_squared"
   ]
  },
  {
   "cell_type": "code",
   "execution_count": null,
   "id": "fa4eeeee",
   "metadata": {},
   "outputs": [],
   "source": []
  }
 ],
 "metadata": {
  "kernelspec": {
   "display_name": "Python 3 (ipykernel)",
   "language": "python",
   "name": "python3"
  },
  "language_info": {
   "codemirror_mode": {
    "name": "ipython",
    "version": 3
   },
   "file_extension": ".py",
   "mimetype": "text/x-python",
   "name": "python",
   "nbconvert_exporter": "python",
   "pygments_lexer": "ipython3",
   "version": "3.9.13"
  }
 },
 "nbformat": 4,
 "nbformat_minor": 5
}
