{
 "cells": [
  {
   "cell_type": "code",
   "execution_count": null,
   "id": "a5d0137e",
   "metadata": {},
   "outputs": [],
   "source": [
    "#Gradient Descent\n",
    "import numpy as np\n",
    "import matplotlib.pyplot as plt\n",
    "\n",
    "def function(x):\n",
    "    return x**2 + 3*x - 2\n",
    "\n",
    "def gradient_function(x):\n",
    "    return 2*x + 3\n",
    "\n",
    "xvals= np.arange(-5,3,0.1)\n",
    "yvals=function(xvals)\n",
    "plt.plot(xvals,yvals)\n",
    "\n",
    "x=np.random.random_integers(-4,3)+np.random.rand(1)[0]\n",
    "lr=0.2\n",
    "i=0\n",
    "\n",
    "while True:\n",
    "    plt.scatter(x,function(x),color='#FF0000')\n",
    "    plt.draw()\n",
    "    plt.pause(0.5)\n",
    "    x=x-lr*gradient_function(x)\n",
    "    print(\"Iteration {:3d} -> x= {:+7.5f}\".format(i,x))\n",
    "    i+=1"
   ]
  },
  {
   "cell_type": "code",
   "execution_count": null,
   "id": "eef85fed",
   "metadata": {},
   "outputs": [],
   "source": []
  },
  {
   "cell_type": "code",
   "execution_count": null,
   "id": "75573271",
   "metadata": {},
   "outputs": [],
   "source": []
  }
 ],
 "metadata": {
  "kernelspec": {
   "display_name": "Python 3 (ipykernel)",
   "language": "python",
   "name": "python3"
  },
  "language_info": {
   "codemirror_mode": {
    "name": "ipython",
    "version": 3
   },
   "file_extension": ".py",
   "mimetype": "text/x-python",
   "name": "python",
   "nbconvert_exporter": "python",
   "pygments_lexer": "ipython3",
   "version": "3.9.13"
  }
 },
 "nbformat": 4,
 "nbformat_minor": 5
}
